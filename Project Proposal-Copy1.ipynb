{
 "cells": [
  {
   "cell_type": "markdown",
   "metadata": {},
   "source": [
    "# Project Proposal\n"
   ]
  },
  {
   "cell_type": "markdown",
   "metadata": {},
   "source": [
    "## Title: Grand Slam Off the Court"
   ]
  },
  {
   "cell_type": "markdown",
   "metadata": {},
   "source": [
    "Group Number: 20\n",
    "\n",
    "Group Members: Manushree Singhania, Bryan Chang, Shubham Sharma, Yoson Hsu"
   ]
  },
  {
   "cell_type": "markdown",
   "metadata": {},
   "source": [
    "Data Set: Player Stats for Top 500 Players\n"
   ]
  },
  {
   "cell_type": "code",
   "execution_count": 1,
   "metadata": {},
   "outputs": [
    {
     "name": "stderr",
     "output_type": "stream",
     "text": [
      "── \u001b[1mAttaching packages\u001b[22m ─────────────────────────────────────── tidyverse 1.3.0 ──\n",
      "\n",
      "\u001b[32m✔\u001b[39m \u001b[34mggplot2\u001b[39m 3.3.2     \u001b[32m✔\u001b[39m \u001b[34mpurrr  \u001b[39m 0.3.4\n",
      "\u001b[32m✔\u001b[39m \u001b[34mtibble \u001b[39m 3.0.3     \u001b[32m✔\u001b[39m \u001b[34mdplyr  \u001b[39m 1.0.2\n",
      "\u001b[32m✔\u001b[39m \u001b[34mtidyr  \u001b[39m 1.1.2     \u001b[32m✔\u001b[39m \u001b[34mstringr\u001b[39m 1.4.0\n",
      "\u001b[32m✔\u001b[39m \u001b[34mreadr  \u001b[39m 1.3.1     \u001b[32m✔\u001b[39m \u001b[34mforcats\u001b[39m 0.5.0\n",
      "\n",
      "Warning message:\n",
      "“package ‘ggplot2’ was built under R version 4.0.1”\n",
      "Warning message:\n",
      "“package ‘tibble’ was built under R version 4.0.2”\n",
      "Warning message:\n",
      "“package ‘tidyr’ was built under R version 4.0.2”\n",
      "Warning message:\n",
      "“package ‘dplyr’ was built under R version 4.0.2”\n",
      "── \u001b[1mConflicts\u001b[22m ────────────────────────────────────────── tidyverse_conflicts() ──\n",
      "\u001b[31m✖\u001b[39m \u001b[34mdplyr\u001b[39m::\u001b[32mfilter()\u001b[39m masks \u001b[34mstats\u001b[39m::filter()\n",
      "\u001b[31m✖\u001b[39m \u001b[34mdplyr\u001b[39m::\u001b[32mlag()\u001b[39m    masks \u001b[34mstats\u001b[39m::lag()\n",
      "\n",
      "\n",
      "Attaching package: ‘lubridate’\n",
      "\n",
      "\n",
      "The following objects are masked from ‘package:base’:\n",
      "\n",
      "    date, intersect, setdiff, union\n",
      "\n",
      "\n",
      "Warning message:\n",
      "“package ‘tidymodels’ was built under R version 4.0.2”\n",
      "── \u001b[1mAttaching packages\u001b[22m ────────────────────────────────────── tidymodels 0.1.1 ──\n",
      "\n",
      "\u001b[32m✔\u001b[39m \u001b[34mbroom    \u001b[39m 0.7.0      \u001b[32m✔\u001b[39m \u001b[34mrecipes  \u001b[39m 0.1.13\n",
      "\u001b[32m✔\u001b[39m \u001b[34mdials    \u001b[39m 0.0.9      \u001b[32m✔\u001b[39m \u001b[34mrsample  \u001b[39m 0.0.7 \n",
      "\u001b[32m✔\u001b[39m \u001b[34minfer    \u001b[39m 0.5.4      \u001b[32m✔\u001b[39m \u001b[34mtune     \u001b[39m 0.1.1 \n",
      "\u001b[32m✔\u001b[39m \u001b[34mmodeldata\u001b[39m 0.0.2      \u001b[32m✔\u001b[39m \u001b[34mworkflows\u001b[39m 0.2.0 \n",
      "\u001b[32m✔\u001b[39m \u001b[34mparsnip  \u001b[39m 0.1.3      \u001b[32m✔\u001b[39m \u001b[34myardstick\u001b[39m 0.0.7 \n",
      "\n",
      "Warning message:\n",
      "“package ‘broom’ was built under R version 4.0.2”\n",
      "Warning message:\n",
      "“package ‘dials’ was built under R version 4.0.2”\n",
      "Warning message:\n",
      "“package ‘infer’ was built under R version 4.0.3”\n",
      "Warning message:\n",
      "“package ‘modeldata’ was built under R version 4.0.1”\n",
      "Warning message:\n",
      "“package ‘parsnip’ was built under R version 4.0.2”\n",
      "Warning message:\n",
      "“package ‘recipes’ was built under R version 4.0.1”\n",
      "Warning message:\n",
      "“package ‘tune’ was built under R version 4.0.2”\n",
      "Warning message:\n",
      "“package ‘workflows’ was built under R version 4.0.2”\n",
      "Warning message:\n",
      "“package ‘yardstick’ was built under R version 4.0.2”\n",
      "── \u001b[1mConflicts\u001b[22m ───────────────────────────────────────── tidymodels_conflicts() ──\n",
      "\u001b[31m✖\u001b[39m \u001b[34mscales\u001b[39m::\u001b[32mdiscard()\u001b[39m masks \u001b[34mpurrr\u001b[39m::discard()\n",
      "\u001b[31m✖\u001b[39m \u001b[34mdplyr\u001b[39m::\u001b[32mfilter()\u001b[39m   masks \u001b[34mstats\u001b[39m::filter()\n",
      "\u001b[31m✖\u001b[39m \u001b[34mrecipes\u001b[39m::\u001b[32mfixed()\u001b[39m  masks \u001b[34mstringr\u001b[39m::fixed()\n",
      "\u001b[31m✖\u001b[39m \u001b[34mdplyr\u001b[39m::\u001b[32mlag()\u001b[39m      masks \u001b[34mstats\u001b[39m::lag()\n",
      "\u001b[31m✖\u001b[39m \u001b[34myardstick\u001b[39m::\u001b[32mspec()\u001b[39m masks \u001b[34mreadr\u001b[39m::spec()\n",
      "\u001b[31m✖\u001b[39m \u001b[34mrecipes\u001b[39m::\u001b[32mstep()\u001b[39m   masks \u001b[34mstats\u001b[39m::step()\n",
      "\n"
     ]
    }
   ],
   "source": [
    "library(tidyverse)\n",
    "library(repr)\n",
    "library(lubridate)\n",
    "library(tidymodels)\n",
    "library(dplyr)\n",
    "options(repr.matrix.max.rows = 6)\n"
   ]
  },
  {
   "cell_type": "markdown",
   "metadata": {},
   "source": [
    "## Introduction"
   ]
  },
  {
   "cell_type": "markdown",
   "metadata": {},
   "source": [
    "With the commercialization of modern sports, it would be of interest to know how much our beloved athletes are profiting from their careers. We know that players with the highest ATP (governing body for male tennis) rankings are winners on the court, yet we cannot confirm that such wins translate off the court financially. As such, our project aims to build a regression model which can answer the following question: Given a player’s metrics, can we predict a player’s career earnings at some given point in their career, and subsequently whether or not they are currently amongst the world’s 30 richest male tennis stars. The data set we are using has been published by the ATP with data on the world’s top 500 ranked active male tennis players (2021)."
   ]
  },
  {
   "cell_type": "markdown",
   "metadata": {},
   "source": [
    "## Preliminary exploratory data analysis"
   ]
  },
  {
   "cell_type": "markdown",
   "metadata": {},
   "source": [
    "We read the data into R using the URL provided directly from the list of given data sets. We cleaned our data by primarily separating columns and turning characters into numericals. There were columns where the value of interest was accompanied by a date; we completely got rid of said dates. The values of certain columns were characters due to the presence of special characters and additional information. All values containing NA were filtered out since blank data could skew our model. In addition, we added a column as to whether a player was currently in the top 30 for highest career earnings amongst active male players. Training data was summarized in a table, with accompanying tables showing the proportions of predictor variables. We then constructed scatter plots demonstrating the relationship between seasons active and career earnings, and one between best career ATP rank and career earnings, both color-coded by whether or not a player was one of the top 30 richest male players."
   ]
  },
  {
   "cell_type": "code",
   "execution_count": 2,
   "metadata": {},
   "outputs": [
    {
     "name": "stderr",
     "output_type": "stream",
     "text": [
      "Warning message:\n",
      "“Missing column names filled in: 'X1' [1]”\n",
      "Parsed with column specification:\n",
      "cols(\n",
      "  .default = col_character(),\n",
      "  X1 = \u001b[32mcol_double()\u001b[39m,\n",
      "  `Turned Pro` = \u001b[32mcol_double()\u001b[39m,\n",
      "  Seasons = \u001b[32mcol_double()\u001b[39m,\n",
      "  Titles = \u001b[32mcol_double()\u001b[39m,\n",
      "  `Best Season` = \u001b[32mcol_double()\u001b[39m,\n",
      "  Retired = \u001b[32mcol_double()\u001b[39m,\n",
      "  Masters = \u001b[32mcol_double()\u001b[39m,\n",
      "  `Grand Slams` = \u001b[32mcol_double()\u001b[39m,\n",
      "  `Davis Cups` = \u001b[32mcol_double()\u001b[39m,\n",
      "  `Team Cups` = \u001b[32mcol_double()\u001b[39m,\n",
      "  Olympics = \u001b[32mcol_double()\u001b[39m,\n",
      "  `Weeks at No. 1` = \u001b[32mcol_double()\u001b[39m,\n",
      "  `Tour Finals` = \u001b[32mcol_double()\u001b[39m\n",
      ")\n",
      "\n",
      "See spec(...) for full column specifications.\n",
      "\n",
      "Warning message:\n",
      "“Expected 2 pieces. Additional pieces discarded in 20 rows [3, 26, 32, 36, 48, 49, 61, 62, 73, 79, 80, 85, 91, 100, 104, 106, 107, 112, 113, 115].”\n",
      "Warning message:\n",
      "“Expected 2 pieces. Missing pieces filled with `NA` in 91 rows [1, 2, 4, 5, 6, 7, 8, 9, 10, 11, 12, 13, 15, 16, 18, 19, 20, 21, 22, 23, ...].”\n"
     ]
    },
    {
     "data": {
      "text/html": [
       "<table>\n",
       "<caption>A tibble: 101 × 8</caption>\n",
       "<thead>\n",
       "\t<tr><th scope=col>Age</th><th scope=col>Handedness</th><th scope=col>Best_Rank</th><th scope=col>Name</th><th scope=col>Backhand</th><th scope=col>Height</th><th scope=col>Seasons_active</th><th scope=col>Career_earnings</th></tr>\n",
       "\t<tr><th scope=col>&lt;int&gt;</th><th scope=col>&lt;fct&gt;</th><th scope=col>&lt;int&gt;</th><th scope=col>&lt;chr&gt;</th><th scope=col>&lt;fct&gt;</th><th scope=col>&lt;dbl&gt;</th><th scope=col>&lt;dbl&gt;</th><th scope=col>&lt;dbl&gt;</th></tr>\n",
       "</thead>\n",
       "<tbody>\n",
       "\t<tr><td>33</td><td>Left-handed </td><td>1</td><td>Rafael Nadal         </td><td>Two-handed</td><td>185</td><td>19</td><td>119601561</td></tr>\n",
       "\t<tr><td>31</td><td>Right-handed</td><td>3</td><td>Juan Martin Del Potro</td><td>Two-handed</td><td>198</td><td>14</td><td> 25889586</td></tr>\n",
       "\t<tr><td>26</td><td>Right-handed</td><td>4</td><td>Dominic Thiem        </td><td>One-handed</td><td>185</td><td>10</td><td> 22132368</td></tr>\n",
       "\t<tr><td>⋮</td><td>⋮</td><td>⋮</td><td>⋮</td><td>⋮</td><td>⋮</td><td>⋮</td><td>⋮</td></tr>\n",
       "\t<tr><td>28</td><td>Right-handed</td><td>183</td><td>Laurynas Grigelis</td><td>Two-handed</td><td>183</td><td> 8</td><td>327684</td></tr>\n",
       "\t<tr><td>28</td><td>Right-handed</td><td>286</td><td>Sandro Ehrat     </td><td>Two-handed</td><td>180</td><td> 3</td><td> 95194</td></tr>\n",
       "\t<tr><td>32</td><td>Right-handed</td><td> 28</td><td>Santiago Giraldo </td><td>Two-handed</td><td>188</td><td>14</td><td>  4416</td></tr>\n",
       "</tbody>\n",
       "</table>\n"
      ],
      "text/latex": [
       "A tibble: 101 × 8\n",
       "\\begin{tabular}{llllllll}\n",
       " Age & Handedness & Best\\_Rank & Name & Backhand & Height & Seasons\\_active & Career\\_earnings\\\\\n",
       " <int> & <fct> & <int> & <chr> & <fct> & <dbl> & <dbl> & <dbl>\\\\\n",
       "\\hline\n",
       "\t 33 & Left-handed  & 1 & Rafael Nadal          & Two-handed & 185 & 19 & 119601561\\\\\n",
       "\t 31 & Right-handed & 3 & Juan Martin Del Potro & Two-handed & 198 & 14 &  25889586\\\\\n",
       "\t 26 & Right-handed & 4 & Dominic Thiem         & One-handed & 185 & 10 &  22132368\\\\\n",
       "\t ⋮ & ⋮ & ⋮ & ⋮ & ⋮ & ⋮ & ⋮ & ⋮\\\\\n",
       "\t 28 & Right-handed & 183 & Laurynas Grigelis & Two-handed & 183 &  8 & 327684\\\\\n",
       "\t 28 & Right-handed & 286 & Sandro Ehrat      & Two-handed & 180 &  3 &  95194\\\\\n",
       "\t 32 & Right-handed &  28 & Santiago Giraldo  & Two-handed & 188 & 14 &   4416\\\\\n",
       "\\end{tabular}\n"
      ],
      "text/markdown": [
       "\n",
       "A tibble: 101 × 8\n",
       "\n",
       "| Age &lt;int&gt; | Handedness &lt;fct&gt; | Best_Rank &lt;int&gt; | Name &lt;chr&gt; | Backhand &lt;fct&gt; | Height &lt;dbl&gt; | Seasons_active &lt;dbl&gt; | Career_earnings &lt;dbl&gt; |\n",
       "|---|---|---|---|---|---|---|---|\n",
       "| 33 | Left-handed  | 1 | Rafael Nadal          | Two-handed | 185 | 19 | 119601561 |\n",
       "| 31 | Right-handed | 3 | Juan Martin Del Potro | Two-handed | 198 | 14 |  25889586 |\n",
       "| 26 | Right-handed | 4 | Dominic Thiem         | One-handed | 185 | 10 |  22132368 |\n",
       "| ⋮ | ⋮ | ⋮ | ⋮ | ⋮ | ⋮ | ⋮ | ⋮ |\n",
       "| 28 | Right-handed | 183 | Laurynas Grigelis | Two-handed | 183 |  8 | 327684 |\n",
       "| 28 | Right-handed | 286 | Sandro Ehrat      | Two-handed | 180 |  3 |  95194 |\n",
       "| 32 | Right-handed |  28 | Santiago Giraldo  | Two-handed | 188 | 14 |   4416 |\n",
       "\n"
      ],
      "text/plain": [
       "    Age Handedness   Best_Rank Name                  Backhand   Height\n",
       "1   33  Left-handed  1         Rafael Nadal          Two-handed 185   \n",
       "2   31  Right-handed 3         Juan Martin Del Potro Two-handed 198   \n",
       "3   26  Right-handed 4         Dominic Thiem         One-handed 185   \n",
       "⋮   ⋮   ⋮            ⋮         ⋮                     ⋮          ⋮     \n",
       "99  28  Right-handed 183       Laurynas Grigelis     Two-handed 183   \n",
       "100 28  Right-handed 286       Sandro Ehrat          Two-handed 180   \n",
       "101 32  Right-handed  28       Santiago Giraldo      Two-handed 188   \n",
       "    Seasons_active Career_earnings\n",
       "1   19             119601561      \n",
       "2   14              25889586      \n",
       "3   10              22132368      \n",
       "⋮   ⋮              ⋮              \n",
       "99   8             327684         \n",
       "100  3              95194         \n",
       "101 14               4416         "
      ]
     },
     "metadata": {},
     "output_type": "display_data"
    }
   ],
   "source": [
    "\n",
    "#read the data through the given url\n",
    "player_stats_raw <- read_csv(\"https://drive.google.com/uc?export=download&id=1_MECmUXZuuILYeEOfonSGqodW6qVdhsS\")\n",
    "\n",
    "\n",
    "#select the required columns of the data, convert the the characters into doubles and integers for best rank, prize money, age\n",
    "# renamed the columns to give them meaningful names, filtered the rows where values were unavailable i.e. NA. Covereted the \n",
    "# coolumns for Backhand, Handedness as factors. Added a new column to demonstrate whether the carrer earnings of a player \n",
    "# is within the top 30 career earnings of the player all over the world.\n",
    "\n",
    "player_stats_refined <- player_stats_raw %>%\n",
    "                        select(Age, Plays, 'Best Rank', Name, Backhand, 'Prize Money', Height, Seasons) %>%\n",
    "                        separate(col = 'Best Rank', into = c('Best Rank', 'Date of Best Rank'), sep = \" \", convert = TRUE) %>%\n",
    "                        rename(Best_Rank = 'Best Rank', Date_of_Best_Rank = 'Date of Best Rank', Prize_Money = 'Prize Money') %>%\n",
    "                        select(-Date_of_Best_Rank) %>%\n",
    "                        filter(Height != \"NA\") %>%\n",
    "                        separate(col = Age, into = c('Age', 'DOB'), sep = \" \", convert = TRUE) %>%\n",
    "                        separate(col = Prize_Money, into = c('Prize_Money', 'PMO'), sep = \" \", convert = TRUE) %>%\n",
    "                        select(-DOB) %>%\n",
    "                        rename(Handedness = 'Plays')\n",
    "\n",
    "\n",
    "player_stats_refined$Prize<-gsub(\"[^0-9]\",\"\",player_stats_refined$Prize_Money)\n",
    "player_stats_refined <- player_stats_refined %>%\n",
    "                        select(-PMO,-Prize_Money)%>%\n",
    "                        mutate(Prize=as.numeric(Prize))%>%\n",
    "                        filter(Prize != \"NA\")%>%\n",
    "                        arrange(by= desc(Prize))\n",
    "\n",
    "\n",
    "\n",
    "thirty_prize_money <- player_stats_refined$Prize[30] \n",
    "\n",
    "\n",
    "player_stats_mutated <- player_stats_refined %>%\n",
    "                        mutate(Backhand=as_factor(Backhand))%>%\n",
    "                        mutate(Handedness=as_factor(Handedness))\n",
    "\n",
    "player_stats_mutated$Height<-gsub(\"[^0-9]\",\"\",player_stats_mutated$Height)\n",
    "\n",
    "player_stats_mutated <- player_stats_mutated %>%\n",
    "                        mutate(Height=as.numeric(Height))%>%\n",
    "                        rename(Seasons_active=Seasons, Career_earnings=Prize)\n",
    "\n",
    "player_stats_mutated"
   ]
  },
  {
   "cell_type": "code",
   "execution_count": 3,
   "metadata": {},
   "outputs": [
    {
     "data": {
      "text/html": [
       "<table>\n",
       "<caption>A tibble: 77 × 8</caption>\n",
       "<thead>\n",
       "\t<tr><th scope=col>Age</th><th scope=col>Handedness</th><th scope=col>Best_Rank</th><th scope=col>Name</th><th scope=col>Backhand</th><th scope=col>Height</th><th scope=col>Seasons_active</th><th scope=col>Career_earnings</th></tr>\n",
       "\t<tr><th scope=col>&lt;int&gt;</th><th scope=col>&lt;fct&gt;</th><th scope=col>&lt;int&gt;</th><th scope=col>&lt;chr&gt;</th><th scope=col>&lt;fct&gt;</th><th scope=col>&lt;dbl&gt;</th><th scope=col>&lt;dbl&gt;</th><th scope=col>&lt;dbl&gt;</th></tr>\n",
       "</thead>\n",
       "<tbody>\n",
       "\t<tr><td>33</td><td>Left-handed </td><td>1</td><td>Rafael Nadal    </td><td>Two-handed</td><td>185</td><td>19</td><td>119601561</td></tr>\n",
       "\t<tr><td>22</td><td>Right-handed</td><td>3</td><td>Alexander Zverev</td><td>Two-handed</td><td>198</td><td> 8</td><td> 20028563</td></tr>\n",
       "\t<tr><td>34</td><td>Right-handed</td><td>8</td><td>John Isner      </td><td>Two-handed</td><td>206</td><td>14</td><td> 18669906</td></tr>\n",
       "\t<tr><td>⋮</td><td>⋮</td><td>⋮</td><td>⋮</td><td>⋮</td><td>⋮</td><td>⋮</td><td>⋮</td></tr>\n",
       "\t<tr><td>28</td><td>Right-handed</td><td>183</td><td>Laurynas Grigelis</td><td>Two-handed</td><td>183</td><td> 8</td><td>327684</td></tr>\n",
       "\t<tr><td>28</td><td>Right-handed</td><td>286</td><td>Sandro Ehrat     </td><td>Two-handed</td><td>180</td><td> 3</td><td> 95194</td></tr>\n",
       "\t<tr><td>32</td><td>Right-handed</td><td> 28</td><td>Santiago Giraldo </td><td>Two-handed</td><td>188</td><td>14</td><td>  4416</td></tr>\n",
       "</tbody>\n",
       "</table>\n"
      ],
      "text/latex": [
       "A tibble: 77 × 8\n",
       "\\begin{tabular}{llllllll}\n",
       " Age & Handedness & Best\\_Rank & Name & Backhand & Height & Seasons\\_active & Career\\_earnings\\\\\n",
       " <int> & <fct> & <int> & <chr> & <fct> & <dbl> & <dbl> & <dbl>\\\\\n",
       "\\hline\n",
       "\t 33 & Left-handed  & 1 & Rafael Nadal     & Two-handed & 185 & 19 & 119601561\\\\\n",
       "\t 22 & Right-handed & 3 & Alexander Zverev & Two-handed & 198 &  8 &  20028563\\\\\n",
       "\t 34 & Right-handed & 8 & John Isner       & Two-handed & 206 & 14 &  18669906\\\\\n",
       "\t ⋮ & ⋮ & ⋮ & ⋮ & ⋮ & ⋮ & ⋮ & ⋮\\\\\n",
       "\t 28 & Right-handed & 183 & Laurynas Grigelis & Two-handed & 183 &  8 & 327684\\\\\n",
       "\t 28 & Right-handed & 286 & Sandro Ehrat      & Two-handed & 180 &  3 &  95194\\\\\n",
       "\t 32 & Right-handed &  28 & Santiago Giraldo  & Two-handed & 188 & 14 &   4416\\\\\n",
       "\\end{tabular}\n"
      ],
      "text/markdown": [
       "\n",
       "A tibble: 77 × 8\n",
       "\n",
       "| Age &lt;int&gt; | Handedness &lt;fct&gt; | Best_Rank &lt;int&gt; | Name &lt;chr&gt; | Backhand &lt;fct&gt; | Height &lt;dbl&gt; | Seasons_active &lt;dbl&gt; | Career_earnings &lt;dbl&gt; |\n",
       "|---|---|---|---|---|---|---|---|\n",
       "| 33 | Left-handed  | 1 | Rafael Nadal     | Two-handed | 185 | 19 | 119601561 |\n",
       "| 22 | Right-handed | 3 | Alexander Zverev | Two-handed | 198 |  8 |  20028563 |\n",
       "| 34 | Right-handed | 8 | John Isner       | Two-handed | 206 | 14 |  18669906 |\n",
       "| ⋮ | ⋮ | ⋮ | ⋮ | ⋮ | ⋮ | ⋮ | ⋮ |\n",
       "| 28 | Right-handed | 183 | Laurynas Grigelis | Two-handed | 183 |  8 | 327684 |\n",
       "| 28 | Right-handed | 286 | Sandro Ehrat      | Two-handed | 180 |  3 |  95194 |\n",
       "| 32 | Right-handed |  28 | Santiago Giraldo  | Two-handed | 188 | 14 |   4416 |\n",
       "\n"
      ],
      "text/plain": [
       "   Age Handedness   Best_Rank Name              Backhand   Height\n",
       "1  33  Left-handed  1         Rafael Nadal      Two-handed 185   \n",
       "2  22  Right-handed 3         Alexander Zverev  Two-handed 198   \n",
       "3  34  Right-handed 8         John Isner        Two-handed 206   \n",
       "⋮  ⋮   ⋮            ⋮         ⋮                 ⋮          ⋮     \n",
       "75 28  Right-handed 183       Laurynas Grigelis Two-handed 183   \n",
       "76 28  Right-handed 286       Sandro Ehrat      Two-handed 180   \n",
       "77 32  Right-handed  28       Santiago Giraldo  Two-handed 188   \n",
       "   Seasons_active Career_earnings\n",
       "1  19             119601561      \n",
       "2   8              20028563      \n",
       "3  14              18669906      \n",
       "⋮  ⋮              ⋮              \n",
       "75  8             327684         \n",
       "76  3              95194         \n",
       "77 14               4416         "
      ]
     },
     "metadata": {},
     "output_type": "display_data"
    },
    {
     "data": {
      "text/html": [
       "<table>\n",
       "<caption>A tibble: 24 × 8</caption>\n",
       "<thead>\n",
       "\t<tr><th scope=col>Age</th><th scope=col>Handedness</th><th scope=col>Best_Rank</th><th scope=col>Name</th><th scope=col>Backhand</th><th scope=col>Height</th><th scope=col>Seasons_active</th><th scope=col>Career_earnings</th></tr>\n",
       "\t<tr><th scope=col>&lt;int&gt;</th><th scope=col>&lt;fct&gt;</th><th scope=col>&lt;int&gt;</th><th scope=col>&lt;chr&gt;</th><th scope=col>&lt;fct&gt;</th><th scope=col>&lt;dbl&gt;</th><th scope=col>&lt;dbl&gt;</th><th scope=col>&lt;dbl&gt;</th></tr>\n",
       "</thead>\n",
       "<tbody>\n",
       "\t<tr><td>31</td><td>Right-handed</td><td> 3</td><td>Juan Martin Del Potro</td><td>Two-handed</td><td>198</td><td>14</td><td>25889586</td></tr>\n",
       "\t<tr><td>26</td><td>Right-handed</td><td> 4</td><td>Dominic Thiem        </td><td>One-handed</td><td>185</td><td>10</td><td>22132368</td></tr>\n",
       "\t<tr><td>33</td><td>Right-handed</td><td>19</td><td>Marcel Granollers    </td><td>Two-handed</td><td>190</td><td>14</td><td>10821168</td></tr>\n",
       "\t<tr><td>⋮</td><td>⋮</td><td>⋮</td><td>⋮</td><td>⋮</td><td>⋮</td><td>⋮</td><td>⋮</td></tr>\n",
       "\t<tr><td>29</td><td>Right-handed</td><td> 57</td><td>Gastao Elias  </td><td>Two-handed</td><td>178</td><td>11</td><td>1068023</td></tr>\n",
       "\t<tr><td>29</td><td>Right-handed</td><td>163</td><td>Mohamed Safwat</td><td>Two-handed</td><td>183</td><td>10</td><td> 546381</td></tr>\n",
       "\t<tr><td>31</td><td>Right-handed</td><td>112</td><td>Attila Balazs </td><td>Two-handed</td><td>180</td><td> 8</td><td> 450046</td></tr>\n",
       "</tbody>\n",
       "</table>\n"
      ],
      "text/latex": [
       "A tibble: 24 × 8\n",
       "\\begin{tabular}{llllllll}\n",
       " Age & Handedness & Best\\_Rank & Name & Backhand & Height & Seasons\\_active & Career\\_earnings\\\\\n",
       " <int> & <fct> & <int> & <chr> & <fct> & <dbl> & <dbl> & <dbl>\\\\\n",
       "\\hline\n",
       "\t 31 & Right-handed &  3 & Juan Martin Del Potro & Two-handed & 198 & 14 & 25889586\\\\\n",
       "\t 26 & Right-handed &  4 & Dominic Thiem         & One-handed & 185 & 10 & 22132368\\\\\n",
       "\t 33 & Right-handed & 19 & Marcel Granollers     & Two-handed & 190 & 14 & 10821168\\\\\n",
       "\t ⋮ & ⋮ & ⋮ & ⋮ & ⋮ & ⋮ & ⋮ & ⋮\\\\\n",
       "\t 29 & Right-handed &  57 & Gastao Elias   & Two-handed & 178 & 11 & 1068023\\\\\n",
       "\t 29 & Right-handed & 163 & Mohamed Safwat & Two-handed & 183 & 10 &  546381\\\\\n",
       "\t 31 & Right-handed & 112 & Attila Balazs  & Two-handed & 180 &  8 &  450046\\\\\n",
       "\\end{tabular}\n"
      ],
      "text/markdown": [
       "\n",
       "A tibble: 24 × 8\n",
       "\n",
       "| Age &lt;int&gt; | Handedness &lt;fct&gt; | Best_Rank &lt;int&gt; | Name &lt;chr&gt; | Backhand &lt;fct&gt; | Height &lt;dbl&gt; | Seasons_active &lt;dbl&gt; | Career_earnings &lt;dbl&gt; |\n",
       "|---|---|---|---|---|---|---|---|\n",
       "| 31 | Right-handed |  3 | Juan Martin Del Potro | Two-handed | 198 | 14 | 25889586 |\n",
       "| 26 | Right-handed |  4 | Dominic Thiem         | One-handed | 185 | 10 | 22132368 |\n",
       "| 33 | Right-handed | 19 | Marcel Granollers     | Two-handed | 190 | 14 | 10821168 |\n",
       "| ⋮ | ⋮ | ⋮ | ⋮ | ⋮ | ⋮ | ⋮ | ⋮ |\n",
       "| 29 | Right-handed |  57 | Gastao Elias   | Two-handed | 178 | 11 | 1068023 |\n",
       "| 29 | Right-handed | 163 | Mohamed Safwat | Two-handed | 183 | 10 |  546381 |\n",
       "| 31 | Right-handed | 112 | Attila Balazs  | Two-handed | 180 |  8 |  450046 |\n",
       "\n"
      ],
      "text/plain": [
       "   Age Handedness   Best_Rank Name                  Backhand   Height\n",
       "1  31  Right-handed  3        Juan Martin Del Potro Two-handed 198   \n",
       "2  26  Right-handed  4        Dominic Thiem         One-handed 185   \n",
       "3  33  Right-handed 19        Marcel Granollers     Two-handed 190   \n",
       "⋮  ⋮   ⋮            ⋮         ⋮                     ⋮          ⋮     \n",
       "22 29  Right-handed  57       Gastao Elias          Two-handed 178   \n",
       "23 29  Right-handed 163       Mohamed Safwat        Two-handed 183   \n",
       "24 31  Right-handed 112       Attila Balazs         Two-handed 180   \n",
       "   Seasons_active Career_earnings\n",
       "1  14             25889586       \n",
       "2  10             22132368       \n",
       "3  14             10821168       \n",
       "⋮  ⋮              ⋮              \n",
       "22 11             1068023        \n",
       "23 10              546381        \n",
       "24  8              450046        "
      ]
     },
     "metadata": {},
     "output_type": "display_data"
    }
   ],
   "source": [
    "# Dividing the data into training and testing set with 75% data in training set and 25% in testing set.\n",
    "\n",
    "options(repr.plot.height = 5, repr.plot.width = 6)\n",
    "\n",
    "player_split <- initial_split(player_stats_mutated, prop = 0.75, strata = Career_earnings)  \n",
    "player_train <- training(player_split)   \n",
    "player_test <- testing(player_split)\n",
    "\n",
    "player_train\n",
    "player_test"
   ]
  },
  {
   "cell_type": "code",
   "execution_count": 4,
   "metadata": {},
   "outputs": [
    {
     "name": "stderr",
     "output_type": "stream",
     "text": [
      "`summarise()` ungrouping output (override with `.groups` argument)\n",
      "\n",
      "`summarise()` ungrouping output (override with `.groups` argument)\n",
      "\n",
      "`summarise()` ungrouping output (override with `.groups` argument)\n",
      "\n"
     ]
    },
    {
     "data": {
      "text/html": [
       "<table>\n",
       "<caption>A tibble: 17 × 6</caption>\n",
       "<thead>\n",
       "\t<tr><th scope=col>Seasons_active</th><th scope=col>Handedness_percentage</th><th scope=col>Backhand_percentage</th><th scope=col>Age</th><th scope=col>Best_Rank</th><th scope=col>Height</th></tr>\n",
       "\t<tr><th scope=col>&lt;dbl&gt;</th><th scope=col>&lt;dbl&gt;</th><th scope=col>&lt;dbl&gt;</th><th scope=col>&lt;dbl&gt;</th><th scope=col>&lt;dbl&gt;</th><th scope=col>&lt;dbl&gt;</th></tr>\n",
       "</thead>\n",
       "<tbody>\n",
       "\t<tr><td>3</td><td>2.597403</td><td>2.597403</td><td>27.5</td><td>235.5</td><td>182.5</td></tr>\n",
       "\t<tr><td>5</td><td>2.597403</td><td>2.597403</td><td>27.5</td><td>124.5</td><td>183.0</td></tr>\n",
       "\t<tr><td>7</td><td>6.493506</td><td>6.493506</td><td>28.0</td><td> 54.2</td><td>184.6</td></tr>\n",
       "\t<tr><td>⋮</td><td>⋮</td><td>⋮</td><td>⋮</td><td>⋮</td><td>⋮</td></tr>\n",
       "\t<tr><td>19</td><td>2.597403</td><td>2.597403</td><td>34.5</td><td> 4</td><td>186.5</td></tr>\n",
       "\t<tr><td>20</td><td>1.298701</td><td>1.298701</td><td>38.0</td><td>37</td><td>190.0</td></tr>\n",
       "\t<tr><td>21</td><td>1.298701</td><td>1.298701</td><td>37.0</td><td> 5</td><td>180.0</td></tr>\n",
       "</tbody>\n",
       "</table>\n"
      ],
      "text/latex": [
       "A tibble: 17 × 6\n",
       "\\begin{tabular}{llllll}\n",
       " Seasons\\_active & Handedness\\_percentage & Backhand\\_percentage & Age & Best\\_Rank & Height\\\\\n",
       " <dbl> & <dbl> & <dbl> & <dbl> & <dbl> & <dbl>\\\\\n",
       "\\hline\n",
       "\t 3 & 2.597403 & 2.597403 & 27.5 & 235.5 & 182.5\\\\\n",
       "\t 5 & 2.597403 & 2.597403 & 27.5 & 124.5 & 183.0\\\\\n",
       "\t 7 & 6.493506 & 6.493506 & 28.0 &  54.2 & 184.6\\\\\n",
       "\t ⋮ & ⋮ & ⋮ & ⋮ & ⋮ & ⋮\\\\\n",
       "\t 19 & 2.597403 & 2.597403 & 34.5 &  4 & 186.5\\\\\n",
       "\t 20 & 1.298701 & 1.298701 & 38.0 & 37 & 190.0\\\\\n",
       "\t 21 & 1.298701 & 1.298701 & 37.0 &  5 & 180.0\\\\\n",
       "\\end{tabular}\n"
      ],
      "text/markdown": [
       "\n",
       "A tibble: 17 × 6\n",
       "\n",
       "| Seasons_active &lt;dbl&gt; | Handedness_percentage &lt;dbl&gt; | Backhand_percentage &lt;dbl&gt; | Age &lt;dbl&gt; | Best_Rank &lt;dbl&gt; | Height &lt;dbl&gt; |\n",
       "|---|---|---|---|---|---|\n",
       "| 3 | 2.597403 | 2.597403 | 27.5 | 235.5 | 182.5 |\n",
       "| 5 | 2.597403 | 2.597403 | 27.5 | 124.5 | 183.0 |\n",
       "| 7 | 6.493506 | 6.493506 | 28.0 |  54.2 | 184.6 |\n",
       "| ⋮ | ⋮ | ⋮ | ⋮ | ⋮ | ⋮ |\n",
       "| 19 | 2.597403 | 2.597403 | 34.5 |  4 | 186.5 |\n",
       "| 20 | 1.298701 | 1.298701 | 38.0 | 37 | 190.0 |\n",
       "| 21 | 1.298701 | 1.298701 | 37.0 |  5 | 180.0 |\n",
       "\n"
      ],
      "text/plain": [
       "   Seasons_active Handedness_percentage Backhand_percentage Age  Best_Rank\n",
       "1  3              2.597403              2.597403            27.5 235.5    \n",
       "2  5              2.597403              2.597403            27.5 124.5    \n",
       "3  7              6.493506              6.493506            28.0  54.2    \n",
       "⋮  ⋮              ⋮                     ⋮                   ⋮    ⋮        \n",
       "15 19             2.597403              2.597403            34.5  4       \n",
       "16 20             1.298701              1.298701            38.0 37       \n",
       "17 21             1.298701              1.298701            37.0  5       \n",
       "   Height\n",
       "1  182.5 \n",
       "2  183.0 \n",
       "3  184.6 \n",
       "⋮  ⋮     \n",
       "15 186.5 \n",
       "16 190.0 \n",
       "17 180.0 "
      ]
     },
     "metadata": {},
     "output_type": "display_data"
    },
    {
     "data": {
      "text/html": [
       "<table>\n",
       "<caption>A tibble: 2 × 3</caption>\n",
       "<thead>\n",
       "\t<tr><th scope=col>Handedness</th><th scope=col>count</th><th scope=col>percentage</th></tr>\n",
       "\t<tr><th scope=col>&lt;fct&gt;</th><th scope=col>&lt;int&gt;</th><th scope=col>&lt;dbl&gt;</th></tr>\n",
       "</thead>\n",
       "<tbody>\n",
       "\t<tr><td>Left-handed </td><td>11</td><td>14.28571</td></tr>\n",
       "\t<tr><td>Right-handed</td><td>66</td><td>85.71429</td></tr>\n",
       "</tbody>\n",
       "</table>\n"
      ],
      "text/latex": [
       "A tibble: 2 × 3\n",
       "\\begin{tabular}{lll}\n",
       " Handedness & count & percentage\\\\\n",
       " <fct> & <int> & <dbl>\\\\\n",
       "\\hline\n",
       "\t Left-handed  & 11 & 14.28571\\\\\n",
       "\t Right-handed & 66 & 85.71429\\\\\n",
       "\\end{tabular}\n"
      ],
      "text/markdown": [
       "\n",
       "A tibble: 2 × 3\n",
       "\n",
       "| Handedness &lt;fct&gt; | count &lt;int&gt; | percentage &lt;dbl&gt; |\n",
       "|---|---|---|\n",
       "| Left-handed  | 11 | 14.28571 |\n",
       "| Right-handed | 66 | 85.71429 |\n",
       "\n"
      ],
      "text/plain": [
       "  Handedness   count percentage\n",
       "1 Left-handed  11    14.28571  \n",
       "2 Right-handed 66    85.71429  "
      ]
     },
     "metadata": {},
     "output_type": "display_data"
    },
    {
     "data": {
      "text/html": [
       "<table>\n",
       "<caption>A tibble: 2 × 3</caption>\n",
       "<thead>\n",
       "\t<tr><th scope=col>Backhand</th><th scope=col>count</th><th scope=col>percentage</th></tr>\n",
       "\t<tr><th scope=col>&lt;fct&gt;</th><th scope=col>&lt;int&gt;</th><th scope=col>&lt;dbl&gt;</th></tr>\n",
       "</thead>\n",
       "<tbody>\n",
       "\t<tr><td>Two-handed</td><td>62</td><td>80.51948</td></tr>\n",
       "\t<tr><td>One-handed</td><td>15</td><td>19.48052</td></tr>\n",
       "</tbody>\n",
       "</table>\n"
      ],
      "text/latex": [
       "A tibble: 2 × 3\n",
       "\\begin{tabular}{lll}\n",
       " Backhand & count & percentage\\\\\n",
       " <fct> & <int> & <dbl>\\\\\n",
       "\\hline\n",
       "\t Two-handed & 62 & 80.51948\\\\\n",
       "\t One-handed & 15 & 19.48052\\\\\n",
       "\\end{tabular}\n"
      ],
      "text/markdown": [
       "\n",
       "A tibble: 2 × 3\n",
       "\n",
       "| Backhand &lt;fct&gt; | count &lt;int&gt; | percentage &lt;dbl&gt; |\n",
       "|---|---|---|\n",
       "| Two-handed | 62 | 80.51948 |\n",
       "| One-handed | 15 | 19.48052 |\n",
       "\n"
      ],
      "text/plain": [
       "  Backhand   count percentage\n",
       "1 Two-handed 62    80.51948  \n",
       "2 One-handed 15    19.48052  "
      ]
     },
     "metadata": {},
     "output_type": "display_data"
    }
   ],
   "source": [
    "num_obs <- nrow(player_train)\n",
    "\n",
    "#summarized the data in the training set by grouping them based on seasons, and summarized the rest of the columns by \n",
    "# calculating the mean of Career_earnings, Height, Best_Rank, Age and percentage of Handedness, Backhand, is_within_thirty\n",
    "# for each season and arranged them by seasons.\n",
    "player_summarized <- player_train %>%\n",
    "                        group_by(Seasons_active)%>%\n",
    "                            summarize(Handedness_percentage=n() / num_obs * 100,Backhand_percentage=n() / num_obs * 100,\n",
    "                              Age=mean(Age),Best_Rank=mean(Best_Rank),\n",
    "                                      Height=mean(Height))%>%\n",
    "                            arrange(by=Seasons_active)\n",
    "\n",
    "#Count the number of players for each type of handedness i.e. Left-handed and Right-Handed\n",
    "player_Handedness <- player_train %>%\n",
    "                        group_by(Handedness)%>%\n",
    "                        summarize(\n",
    "                                count = n(),\n",
    "                        percentage = n() / num_obs * 100)\n",
    "\n",
    "#Count the number of players for each type of Backhand i.e. Two-handed and One-handed\n",
    "player_Backhand <- player_train %>%\n",
    "                        group_by(Backhand)%>%\n",
    "                        summarize(\n",
    "                                count = n(),\n",
    "                        percentage = n() / num_obs * 100)\n",
    "\n",
    "player_summarized\n",
    "player_Handedness\n",
    "player_Backhand"
   ]
  },
  {
   "cell_type": "markdown",
   "metadata": {},
   "source": [
    "## Methods"
   ]
  },
  {
   "cell_type": "markdown",
   "metadata": {},
   "source": [
    "All the graphs and plots described above are raw; our analysis builds off of them. For our linear regression model, we want to conduct it using a multivariable regression model to predict career earnings based on seasons active and best rank. We will further incorporate handedness, backhand, height and age as predictors. Visually, the data will be represented using scatter plots. From the current graph below, we can infer that the relationship between seasons active and career earnings is positive and linear. On the contrary, the relationship between best rank and career earnings is negative and linear. After further analysis of the data, it would be interesting to observe how other predictors affect these observations.\n"
   ]
  },
  {
   "cell_type": "code",
   "execution_count": 5,
   "metadata": {},
   "outputs": [
    {
     "data": {
      "image/png": "[encoded data removed]",
      "text/plain": [
       "plot without title"
      ]
     },
     "metadata": {
      "image/png": {
       "height": 600,
       "width": 900
      }
     },
     "output_type": "display_data"
    }
   ],
   "source": [
    "options(repr.plot.height = 10, repr.plot.width = 15)\n",
    "\n",
    "seasons_v_pm <- ggplot(player_train, aes(x = Seasons_active, y = Career_earnings))+\n",
    "      geom_point() +\n",
    "      labs(x = \"Seasons active\", y = \"Career earnings\") + \n",
    "        theme(text= element_text(size=15))+\n",
    "        scale_y_log10(labels= label_comma())\n",
    "\n",
    "seasons_v_pm"
   ]
  },
  {
   "cell_type": "code",
   "execution_count": 6,
   "metadata": {},
   "outputs": [
    {
     "data": {
      "image/png": "[encoded data removed]",
      "text/plain": [
       "plot without title"
      ]
     },
     "metadata": {
      "image/png": {
       "height": 600,
       "width": 900
      }
     },
     "output_type": "display_data"
    }
   ],
   "source": [
    "best_rank_vs_pm <- ggplot(player_train, aes(x = Best_Rank, y = Career_earnings))+\n",
    "      geom_point() +\n",
    "      labs(x = \"Best Rank\", y = \"Career earnings\") + \n",
    "        theme(text= element_text(size=15))+\n",
    "        scale_y_log10(labels= label_comma())+\n",
    "        scale_x_log10(labels= label_comma())\n",
    "\n",
    "        \n",
    "best_rank_vs_pm"
   ]
  },
  {
   "cell_type": "code",
   "execution_count": 7,
   "metadata": {},
   "outputs": [
    {
     "name": "stderr",
     "output_type": "stream",
     "text": [
      "Warning message:\n",
      "“The number of observations in each quantile is below the recommended threshold of 20. Stratification will be done with 3 breaks instead.”\n"
     ]
    },
    {
     "data": {
      "text/plain": [
       "══ Workflow ════════════════════════════════════════════════════════════════════\n",
       "\u001b[3mPreprocessor:\u001b[23m Recipe\n",
       "\u001b[3mModel:\u001b[23m nearest_neighbor()\n",
       "\n",
       "── Preprocessor ────────────────────────────────────────────────────────────────\n",
       "2 Recipe Steps\n",
       "\n",
       "● step_scale()\n",
       "● step_center()\n",
       "\n",
       "── Model ───────────────────────────────────────────────────────────────────────\n",
       "K-Nearest Neighbor Model Specification (regression)\n",
       "\n",
       "Main Arguments:\n",
       "  neighbors = tune()\n",
       "  weight_func = rectangular\n",
       "\n",
       "Computational engine: kknn \n"
      ]
     },
     "metadata": {},
     "output_type": "display_data"
    }
   ],
   "source": [
    "# Creating a model specification for knn regression model to find the most accurate number od neighbors\n",
    "\n",
    "\n",
    "player_spec <- nearest_neighbor(weight_func = \"rectangular\", \n",
    "                              neighbors = tune())%>%\n",
    "                          set_engine(\"kknn\") %>%\n",
    "                          set_mode(\"regression\")\n",
    "\n",
    "# creating the recipe for the knn regression on training set of the dataframe player \n",
    "player_recipe <- recipe(Career_earnings ~ Height+ Age+ Best_Rank+ Seasons_active, data = player_train) %>%\n",
    "  step_scale(all_predictors()) %>%\n",
    "  step_center(all_predictors())\n",
    "\n",
    "player_vfold <- vfold_cv(player_train, v = 5, strata = Career_earnings)\n",
    "\n",
    "\n",
    "#crreating a workflow for knn regression to find the appropriate number of neighnors to perform regression\n",
    "player_wkflw <- workflow() %>%\n",
    "  add_recipe(player_recipe) %>%\n",
    "  add_model(player_spec)\n",
    "\n",
    "player_wkflw"
   ]
  },
  {
   "cell_type": "code",
   "execution_count": 8,
   "metadata": {},
   "outputs": [
    {
     "name": "stderr",
     "output_type": "stream",
     "text": [
      "\u001b[31mx\u001b[39m \u001b[31mFold1: model 1/1: Error in cl[C]: only 0's may be mixed with negative subscripts\u001b[39m\n",
      "\n",
      "\u001b[31mx\u001b[39m \u001b[31mFold2: model 1/1: Error in cl[C]: only 0's may be mixed with negative subscripts\u001b[39m\n",
      "\n",
      "\u001b[31mx\u001b[39m \u001b[31mFold3: model 1/1: Error in gc(FALSE): GC encountered a node (0x56134ed09710) wi...\u001b[39m\n",
      "\n",
      "\u001b[31mx\u001b[39m \u001b[31mFold4: model 1/1: Error in gc(FALSE): GC encountered a node (0x56134ed09710) wi...\u001b[39m\n",
      "\n",
      "\u001b[31mx\u001b[39m \u001b[31mFold5: model 1/1: Error in gc(FALSE): GC encountered a node (0x56134ed09710) wi...\u001b[39m\n",
      "\n",
      "Warning message:\n",
      "“All models failed in tune_grid(). See the `.notes` column.”\n"
     ]
    },
    {
     "ename": "ERROR",
     "evalue": "Error: All of the models failed. See the .notes column.\n",
     "output_type": "error",
     "traceback": [
      "Error: All of the models failed. See the .notes column.\nTraceback:\n",
      "1. player_wkflw %>% tune_grid(resamples = player_vfold, grid = gridvals) %>% \n .     collect_metrics() %>% filter(.metric == \"rmse\")",
      "2. withVisible(eval(quote(`_fseq`(`_lhs`)), env, env))",
      "3. eval(quote(`_fseq`(`_lhs`)), env, env)",
      "4. eval(quote(`_fseq`(`_lhs`)), env, env)",
      "5. `_fseq`(`_lhs`)",
      "6. freduce(value, `_function_list`)",
      "7. function_list[[i]](value)",
      "8. collect_metrics(.)",
      "9. estimate_tune_results(x)",
      "10. rlang::abort(\"All of the models failed. See the .notes column.\")",
      "11. signal_abort(cnd)"
     ]
    }
   ],
   "source": [
    "gridvals <- tibble(neighbors = seq(from = 1, to = 100, by = 2))\n",
    "\n",
    "player_results <- player_wkflw %>%\n",
    "  tune_grid(resamples = player_vfold, grid = gridvals) %>%\n",
    "  collect_metrics() %>%\n",
    "  filter(.metric == \"rmse\")\n",
    "\n",
    "player_results"
   ]
  },
  {
   "cell_type": "markdown",
   "metadata": {},
   "source": [
    "## Expected outcomes and significance"
   ]
  },
  {
   "cell_type": "markdown",
   "metadata": {},
   "source": [
    "In theory, players with a longer career should have greater career earnings, although this will vary with many other factors which we examine in this project. Future analyses this could lead to includes finding what other factors predict for greater financial earnings. Future analyses could even build off of our project by constructing a model which predicts for total career earnings by the time they retire. Of course, this cannot be done with our model as there are a plethora of outliers in the tennis world who achieved success at a young age only to diminish from stardom.\n"
   ]
  },
  {
   "cell_type": "code",
   "execution_count": null,
   "metadata": {},
   "outputs": [],
   "source": []
  }
 ],
 "metadata": {
  "kernelspec": {
   "display_name": "R",
   "language": "R",
   "name": "ir"
  },
  "language_info": {
   "codemirror_mode": "r",
   "file_extension": ".r",
   "mimetype": "text/x-r-source",
   "name": "R",
   "pygments_lexer": "r",
   "version": "4.0.0"
  }
 },
 "nbformat": 4,
 "nbformat_minor": 4
}
